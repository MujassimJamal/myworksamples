{
 "cells": [
  {
   "cell_type": "markdown",
   "id": "809d030c",
   "metadata": {},
   "source": [
    "## Chapter 4 : Linear Algebra"
   ]
  },
  {
   "cell_type": "markdown",
   "id": "f04f1180",
   "metadata": {},
   "source": [
    "# Vectors"
   ]
  },
  {
   "cell_type": "code",
   "execution_count": 96,
   "id": "103189ad",
   "metadata": {},
   "outputs": [],
   "source": [
    "# vector is nothing but a lists of number in scratch\n",
    "\n",
    "# Typing defines a standard notation for Python function and variable type annotations. \n",
    "# The notation can be used for documenting code in a concise, standard format, \n",
    "# and it has been designed to also be used by static and runtime type checkers, static analyzers, IDEs and \n",
    "# other tools\n",
    "\n",
    "from typing import List\n",
    "\n",
    "Vector = List[float] # a vector of list of floats\n",
    "\n",
    "height_weight_age = [70, # inches,\n",
    "                    170, # pounds,\n",
    "                    40,] # years\n",
    "grades = [95, # exam1\n",
    "          80, # exam2\n",
    "          75, # exam3\n",
    "          62] # exam4\n",
    "\n",
    "# if two vector v and w are the same length, thier sum is just vector whose first element is v[0] + w[0], and so on."
   ]
  },
  {
   "cell_type": "code",
   "execution_count": 97,
   "id": "d91fcfaf",
   "metadata": {},
   "outputs": [
    {
     "name": "stdout",
     "output_type": "stream",
     "text": [
      "[5.0, 7.0, 9.0]\n",
      "[5, 7, 9]\n"
     ]
    }
   ],
   "source": [
    "# In Python, the assert statement is used to continue the execute if the given condition evaluates to True. \n",
    "# If the assert condition evaluates to False, then it raises the AssertionError exception with the specified error \n",
    "# message.\n",
    "\n",
    "def add(v: Vector, w: Vector) -> Vector: \n",
    "    \"\"\"Adds corresponding elements\"\"\"\n",
    "    assert len(v) == len(w), \"vectors must be the same length\"  # <- this string is like else condition\n",
    "    return [v_i + w_i for v_i, w_i in zip(v, w)]\n",
    "\n",
    "print(add([1.0, 2.0, 3.0], [4.0, 5.0, 6.0]))\n",
    "print(add([1, 2, 3], [4, 5, 6]))\n",
    "\n",
    "### The line add(v: Vector, w: Vector),\n",
    "# specifies that the list passed in v and w para, must contain float values. e.g, {Vector = List[float]}\n",
    "### {-> Vector} represents that the add function must return list of float's as answer.\n",
    "# This are called generic types in python used for variable type annotation.\n",
    "# for e.g, float v = [1.2, 3.4] of java is same as v: List[float] in python :)"
   ]
  },
  {
   "cell_type": "code",
   "execution_count": 98,
   "id": "7db220f9",
   "metadata": {},
   "outputs": [
    {
     "data": {
      "text/plain": [
       "[1, 2, 3]"
      ]
     },
     "execution_count": 98,
     "metadata": {},
     "output_type": "execute_result"
    }
   ],
   "source": [
    "def subtract(v: Vector, w: Vector) -> Vector :\n",
    "    \"\"\"Subtracts corresponding elements\"\"\"\n",
    "    assert len(v) == len(w) ,\"vectors must be the same length\"\n",
    "    return [v_i - w_i for v_i, w_i in zip(v, w)]\n",
    "\n",
    "subtract([5,7,9], [4,5,6])"
   ]
  },
  {
   "cell_type": "code",
   "execution_count": 99,
   "id": "d01b59cb",
   "metadata": {},
   "outputs": [],
   "source": [
    "# vector_sum = [1,2] + [1,2] + [3,4] = [5,8]\n",
    "\n",
    "def vector_sum(vectors : List[Vector]) -> Vector:  # list of lists, List[Vector] == List[List[float]].\n",
    "    \"\"\"Sum of all corresponding elements\"\"\"\n",
    "    # Check that vector is not empty\n",
    "    assert vectors, \"no vectors provided!\"\n",
    "    \n",
    "    # Check the vectors are all the same size\n",
    "    num_elements = len(vectors[0]) # len of first element in vector\n",
    "    \n",
    "    return [sum(vector[i] for vector in vectors) for i in range(num_elements)] \n",
    "        \n",
    "assert vector_sum([[1,2], [3,4], [5,6], [7,8]]) == [16,20]"
   ]
  },
  {
   "cell_type": "code",
   "execution_count": 100,
   "id": "51cec7e2",
   "metadata": {},
   "outputs": [],
   "source": [
    "# multiplying each element of vector by a scaler(a number)\n",
    "\n",
    "def scaler_multiply(c: float, v: Vector) -> Vector :\n",
    "    return [ v_i * c for v_i in v]\n",
    "\n",
    "assert scaler_multiply(2, [1, 2, 3]) == [2, 4, 6] # Check function's answer == [2,4,6]"
   ]
  },
  {
   "cell_type": "code",
   "execution_count": 101,
   "id": "f541c44d",
   "metadata": {},
   "outputs": [
    {
     "data": {
      "text/plain": [
       "[3.0, 4.0]"
      ]
     },
     "execution_count": 101,
     "metadata": {},
     "output_type": "execute_result"
    }
   ],
   "source": [
    "# compute element wise mean of a list of same vector:\n",
    "def vector_mean(vectors: List[Vector]) -> Vector:\n",
    "    \"Compute element wise average\"\n",
    "    n = len(vectors)\n",
    "    return scaler_multiply(1/n, vector_sum(vectors))\n",
    "\n",
    "vector_mean([[1,2], [3,4], [5,6]])"
   ]
  },
  {
   "cell_type": "code",
   "execution_count": 102,
   "id": "fb2073d7",
   "metadata": {},
   "outputs": [],
   "source": [
    "def mean(vectors: List[Vector]) -> Vector:\n",
    "    n = len(vectors)\n",
    "    num_elements = len(vectors[0])\n",
    "    vector_sum = []\n",
    "    vector_sum = [sum(vector[i] for vector in vectors) for i in range(num_elements)]\n",
    "    return [ v_i * 1/n for v_i in vector_sum]\n",
    "\n",
    "assert (mean([[1,2], [3,4], [5,6]]) == vector_mean([[1,2], [3,4], [5,6]]))\n",
    "\n",
    "# mean = sum * 1/total_elements or sum/total_elements"
   ]
  },
  {
   "cell_type": "code",
   "execution_count": 103,
   "id": "8894b739",
   "metadata": {},
   "outputs": [
    {
     "name": "stdout",
     "output_type": "stream",
     "text": [
      "3.0\n",
      "3\n"
     ]
    }
   ],
   "source": [
    "# dot product of two vectors is the sum of thier elementwise products:\n",
    "# [[1,2], [3,4]]\n",
    "# 1*3 + 2*4\n",
    "def dot(v: Vector, w: Vector) -> float: # {-> float} = return answer in float if one of the para given as float.\n",
    "    \"\"\"computes v_1 * w_1 + ... + v_n * w_n\"\"\"\n",
    "    assert len(v) == len(w), \"vectors must be same length\"\n",
    "    return sum(v_i * w_i for v_i, w_i in zip(v, w))\n",
    "\n",
    "print(dot([3.0,0],[1,0]))\n",
    "print(dot([3,0],[1,0]))"
   ]
  },
  {
   "cell_type": "code",
   "execution_count": 104,
   "id": "71f9185c",
   "metadata": {},
   "outputs": [
    {
     "data": {
      "text/plain": [
       "14"
      ]
     },
     "execution_count": 104,
     "metadata": {},
     "output_type": "execute_result"
    }
   ],
   "source": [
    "# compute vector sum of squares\n",
    "\n",
    "def sum_of_squares(v: Vector) -> float:\n",
    "    \"\"\"Return v_1 * v_1 + ... + v_n * v_n\"\"\"\n",
    "    # return sum( v_i * v_i for v_i in v) \n",
    "    #or\n",
    "    return dot(v, v)\n",
    "sum_of_squares([1,2,3]) # 1+4+9"
   ]
  },
  {
   "cell_type": "markdown",
   "id": "a4e5f29f",
   "metadata": {},
   "source": [
    "### Magnitude for vector v = $ \\sqrt{v^2_i + w^2_i} $ ,  $ \\sqrt{\\sum{(v^2_i, w^2_i)}} $\n",
    "### Distnace between two vectors = $ \\sqrt{(v_1 - w_1)^2 + ... + (v_n - w_n)^2} $"
   ]
  },
  {
   "cell_type": "code",
   "execution_count": 105,
   "id": "76e05c30",
   "metadata": {},
   "outputs": [
    {
     "data": {
      "text/plain": [
       "5.0"
      ]
     },
     "execution_count": 105,
     "metadata": {},
     "output_type": "execute_result"
    }
   ],
   "source": [
    "# we can use to compute its magnitude(length):\n",
    "import math\n",
    "\n",
    "def magnitude(v: Vector) -> float:\n",
    "    \"\"\"Return magnitude of v\"\"\"\n",
    "    return math.sqrt(sum_of_squares(v))\n",
    "\n",
    "magnitude([3,4]) # 3*3 + 4*4 = root of 25 "
   ]
  },
  {
   "cell_type": "code",
   "execution_count": 106,
   "id": "ed42e3fc",
   "metadata": {},
   "outputs": [
    {
     "data": {
      "text/plain": [
       "8.0"
      ]
     },
     "execution_count": 106,
     "metadata": {},
     "output_type": "execute_result"
    }
   ],
   "source": [
    "def squared_distance(v: Vector, w: Vector) -> float:\n",
    "    return sum_of_squares(subtract(v,w))\n",
    "\n",
    "squared_distance([1.0, 2], [3,4]) # (-2)**2 + (-2)**2 = 8.0"
   ]
  },
  {
   "cell_type": "code",
   "execution_count": 107,
   "id": "3dd776f3",
   "metadata": {},
   "outputs": [
    {
     "data": {
      "text/plain": [
       "2.8284271247461903"
      ]
     },
     "execution_count": 107,
     "metadata": {},
     "output_type": "execute_result"
    }
   ],
   "source": [
    "def distance(v: Vector, w: Vector) -> float: \n",
    "    return math.sqrt(squared_distance(v,w))\n",
    "\n",
    "distance([1,2], [3,4]) # (-2)**2 + (-2)**2 = sqrt(8)"
   ]
  },
  {
   "cell_type": "code",
   "execution_count": 108,
   "id": "ebb843f5",
   "metadata": {},
   "outputs": [
    {
     "data": {
      "text/plain": [
       "2.8284271247461903"
      ]
     },
     "execution_count": 108,
     "metadata": {},
     "output_type": "execute_result"
    }
   ],
   "source": [
    "# Above functions is equivalent to below.\n",
    "def distance(v: Vector, w: Vector) -> float:\n",
    "    return magnitude(subtract(v, w))\n",
    "\n",
    "distance([1,2],[3,4])"
   ]
  },
  {
   "cell_type": "markdown",
   "id": "abc7aed3",
   "metadata": {},
   "source": [
    "# Matrices"
   ]
  },
  {
   "cell_type": "code",
   "execution_count": 109,
   "id": "89fec49f",
   "metadata": {},
   "outputs": [
    {
     "name": "stdout",
     "output_type": "stream",
     "text": [
      "2 rows, 3 columns\n"
     ]
    }
   ],
   "source": [
    "# A matrix is a 2D collection of numbers.\n",
    "# If A is a matrix, then A[i][j] is the element in the ith row and jth column.\n",
    "\n",
    "Matrix = List[List[float]]   # list of lists of float\n",
    "\n",
    "A = [[1,2,3],\n",
    "     [4,5,6]]\n",
    "\n",
    "B = [[1,2],\n",
    "     [3,4],\n",
    "     [5,6]]\n",
    "\n",
    "from typing import Tuple\n",
    "\n",
    "def shape(A: Matrix) -> Tuple[int, int]: \n",
    "    # {-> Tuple[int, int]} represents that the function must return tuple of int's as answer.\n",
    "    num_rows = len(A)\n",
    "    num_cols = len(A[0])\n",
    "    return num_rows, num_cols\n",
    "\n",
    "print(shape([[1,2,3], [4,5,6]])[0],\"rows,\",shape([[1,2,3], [4,5,6]])[1], \"columns\") # (2,3)"
   ]
  },
  {
   "cell_type": "code",
   "execution_count": 110,
   "id": "8e8032bb",
   "metadata": {},
   "outputs": [
    {
     "name": "stdout",
     "output_type": "stream",
     "text": [
      "[4, 5, 6]\n",
      "[2, 5]\n"
     ]
    }
   ],
   "source": [
    "# ifa matrix has n rows and k columns:\n",
    "\n",
    "def get_rows(A: Matrix, n: int) -> Vector: \n",
    "    \"\"\"Return the n-th row of A (as a Vector)\"\"\"\n",
    "    return A[n]\n",
    "\n",
    "def get_columns(A: Matrix, k: int) -> Vector:\n",
    "    return [A_n[k] for A_n in A] # for each row in A , return k-th element of tha row.\n",
    "\n",
    "# [[1,2,3],\n",
    "#  [4,5,6]]\n",
    "\n",
    "print(get_rows(A, 1))\n",
    "print(get_columns(A, 1))"
   ]
  },
  {
   "cell_type": "code",
   "execution_count": 111,
   "id": "9a597024",
   "metadata": {},
   "outputs": [
    {
     "data": {
      "text/plain": [
       "[[1, 0, 0, 0, 0],\n",
       " [0, 1, 0, 0, 0],\n",
       " [0, 0, 1, 0, 0],\n",
       " [0, 0, 0, 1, 0],\n",
       " [0, 0, 0, 0, 1]]"
      ]
     },
     "execution_count": 111,
     "metadata": {},
     "output_type": "execute_result"
    }
   ],
   "source": [
    "from typing import Callable\n",
    "\n",
    "# We can also able to create a matrix given its shape and a function for generating its elemenet.\n",
    "# entry_fn : A regular function that takes two int parameters and returns a float value.\n",
    "\n",
    "def make_matrix(num_rows: int, num_cols: int, entry_fn: Callable[[int,int], float])-> Matrix :\n",
    "    \"\"\"\n",
    "    Returns a num_rows x num_cols matrix\n",
    "    whose (i,j)-th entry is entry_fn(i,j)\n",
    "    \"\"\"\n",
    "    return [[entry_fn(i,j)    # Given i, create a list\n",
    "             for j in range(num_cols)]  # [entry_fn(i, 0), ...]\n",
    "            for i in range(num_rows)]   # create one list for each i\n",
    "\n",
    "# Given function , you could make a 5x5 identity matrix(with 1's on the diagonal and 0's elsewhere):\n",
    "def identity_matrix(n: int) -> Matrix:\n",
    "    \"\"\"Returns the n x n identity matrix\"\"\"\n",
    "    return make_matrix(n, n, lambda i, j: 1 if i==j else 0)\n",
    "\n",
    "identity_matrix(5)\n",
    "\n",
    "# According to lambda:\n",
    "# row loop = 0\n",
    "# column loop = 0, column loop =1, column loop= 2, column loop= 3, column loop= 4\n",
    "# 0 == 0 so 1,     0 != 1 so 0,    0 != 2 so 0,    0 != 3 so 0,    0 !=4 so 0 . hence [1,0,0,0,0]\n",
    "\n",
    "# row loop = 1\n",
    "# column loop = 0, column loop 1, column loop 2, column loop 3, column loop 4\n",
    "# 1 == 0 so 0,     1 == 1 so 0,   1 != 2 so 0,   1 != 3 so 0,   1 !=4 so 0 . hence [0,1,0,0,0] \n",
    "\n",
    "# and so on till row loop 4 :)"
   ]
  },
  {
   "cell_type": "code",
   "execution_count": 112,
   "id": "925d41a3",
   "metadata": {},
   "outputs": [],
   "source": [
    "# heights, weights and ages of 1000 people into 1000x3\n",
    "\n",
    "data=[[70,170,40],\n",
    "      [65,120,26],\n",
    "      [77,250,19],\n",
    "      #.....\n",
    "     ]"
   ]
  },
  {
   "cell_type": "code",
   "execution_count": 113,
   "id": "61b55014",
   "metadata": {},
   "outputs": [],
   "source": [
    "# matrices can be used to represent binary relationships, linear functions and a dataset consisting of multiple vectors."
   ]
  },
  {
   "cell_type": "code",
   "execution_count": 114,
   "id": "bc967f74",
   "metadata": {},
   "outputs": [
    {
     "data": {
      "text/plain": [
       "[(0, 1),\n",
       " (0, 2),\n",
       " (1, 2),\n",
       " (1, 3),\n",
       " (2, 3),\n",
       " (2, 4),\n",
       " (4, 5),\n",
       " (5, 6),\n",
       " (5, 7),\n",
       " (6, 8),\n",
       " (7, 8),\n",
       " (8, 9)]"
      ]
     },
     "execution_count": 114,
     "metadata": {},
     "output_type": "execute_result"
    }
   ],
   "source": [
    "friendships = [(0,1), (0,2), (1,2), (1,3), (2,3), (2,4),\n",
    "               (4,5), (5,6), (5,7), (6,8), (7,8), (8,9)]\n",
    "friendships"
   ]
  },
  {
   "cell_type": "code",
   "execution_count": 115,
   "id": "c623f149",
   "metadata": {},
   "outputs": [
    {
     "name": "stdout",
     "output_type": "stream",
     "text": [
      "Users:\n",
      "  0  1  2  3  4  5  6  7  8  9\n"
     ]
    },
    {
     "data": {
      "text/plain": [
       "[[0, 1, 1, 0, 0, 0, 0, 0, 0, 0],\n",
       " [1, 0, 1, 1, 0, 0, 0, 0, 0, 0],\n",
       " [1, 1, 0, 1, 0, 0, 0, 0, 0, 0],\n",
       " [0, 1, 1, 0, 1, 0, 0, 0, 0, 0],\n",
       " [0, 0, 0, 1, 0, 1, 0, 0, 0, 0],\n",
       " [0, 0, 0, 0, 1, 0, 1, 1, 0, 0],\n",
       " [0, 0, 0, 0, 0, 1, 0, 0, 1, 0],\n",
       " [0, 0, 0, 0, 0, 1, 0, 0, 1, 0],\n",
       " [0, 0, 0, 0, 0, 0, 1, 1, 0, 0],\n",
       " [0, 0, 0, 0, 0, 0, 0, 0, 1, 0]]"
      ]
     },
     "execution_count": 115,
     "metadata": {},
     "output_type": "execute_result"
    }
   ],
   "source": [
    "friend_matrix = [[0,1,1,0,0,0,0,0,0,0], # user 0\n",
    "                 [1,0,1,1,0,0,0,0,0,0], # user 1 and so on\n",
    "                 [1,1,0,1,0,0,0,0,0,0], # ....\n",
    "                 [0,1,1,0,1,0,0,0,0,0],\n",
    "                 [0,0,0,1,0,1,0,0,0,0],\n",
    "                 [0,0,0,0,1,0,1,1,0,0],\n",
    "                 [0,0,0,0,0,1,0,0,1,0],\n",
    "                 [0,0,0,0,0,1,0,0,1,0],\n",
    "                 [0,0,0,0,0,0,1,1,0,0],\n",
    "                 [0,0,0,0,0,0,0,0,1,0]]\n",
    "\n",
    "print('Users:\\n  0  1  2  3  4  5  6  7  8  9')\n",
    "friend_matrix"
   ]
  },
  {
   "cell_type": "code",
   "execution_count": 116,
   "id": "5650e0f2",
   "metadata": {},
   "outputs": [],
   "source": [
    "# Check tw nodes are connected or not\n",
    "assert friend_matrix[0][2] == 1, \"0 and 2 are friends\""
   ]
  },
  {
   "cell_type": "code",
   "execution_count": 117,
   "id": "3de9ebfc",
   "metadata": {},
   "outputs": [],
   "source": [
    "assert friend_matrix[0][8] == 0, \"0 and 8 are not friends\""
   ]
  },
  {
   "cell_type": "code",
   "execution_count": 118,
   "id": "daa88a69",
   "metadata": {},
   "outputs": [
    {
     "name": "stdout",
     "output_type": "stream",
     "text": [
      "6th row: [0, 0, 0, 0, 1, 0, 1, 1, 0, 0]\n",
      "column number:  [4, 6, 7]\n"
     ]
    }
   ],
   "source": [
    "# only need to look at one row\n",
    "friends_of_five = [i for i, is_friend in enumerate(friend_matrix[5]) if is_friend]\n",
    "\n",
    "print('6th row:', friend_matrix[5])\n",
    "print('column number: ',friends_of_five)"
   ]
  },
  {
   "cell_type": "code",
   "execution_count": 119,
   "id": "1da18ae3",
   "metadata": {},
   "outputs": [
    {
     "name": "stdout",
     "output_type": "stream",
     "text": [
      "0 0\n",
      "1 0\n",
      "2 0\n",
      "3 0\n",
      "4 1\n",
      "5 0\n",
      "6 1\n",
      "7 1\n",
      "8 0\n",
      "9 0\n"
     ]
    }
   ],
   "source": [
    "# :)\n",
    "for i, is_friend in enumerate(friend_matrix[5]):\n",
    "    print(i, is_friend)"
   ]
  }
 ],
 "metadata": {
  "kernelspec": {
   "display_name": "Python 3",
   "language": "python",
   "name": "python3"
  },
  "language_info": {
   "codemirror_mode": {
    "name": "ipython",
    "version": 3
   },
   "file_extension": ".py",
   "mimetype": "text/x-python",
   "name": "python",
   "nbconvert_exporter": "python",
   "pygments_lexer": "ipython3",
   "version": "3.9.7"
  }
 },
 "nbformat": 4,
 "nbformat_minor": 5
}
